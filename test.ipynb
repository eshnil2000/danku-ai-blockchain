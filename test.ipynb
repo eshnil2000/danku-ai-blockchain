{
 "cells": [
  {
   "cell_type": "code",
   "execution_count": 1,
   "metadata": {},
   "outputs": [],
   "source": [
    "import tensorflow as tf"
   ]
  },
  {
   "cell_type": "code",
   "execution_count": 3,
   "metadata": {},
   "outputs": [],
   "source": [
    "import web3\n",
    "from web3 import Web3"
   ]
  },
  {
   "cell_type": "code",
   "execution_count": 23,
   "metadata": {},
   "outputs": [],
   "source": [
    "## import required modules\n",
    "from dutils.dataset import DemoDataset, SampleCircleDataset, SampleAcrossCornerDataset\n",
    "from dutils.neural_network import NeuralNetwork\n",
    "import dutils.debug as dbg\n",
    "from secrets import randbelow\n",
    "import web3\n",
    "import numpy as np\n",
    "import matplotlib.pyplot as plt"
   ]
  },
  {
   "cell_type": "code",
   "execution_count": 6,
   "metadata": {},
   "outputs": [
    {
     "name": "stderr",
     "output_type": "stream",
     "text": [
      "/opt/tljh/user/lib/python3.6/site-packages/IPython/core/interactiveshell.py:3214: DtypeWarning: Columns (0) have mixed types. Specify dtype option on import or set low_memory=False.\n",
      "  if (yield from self.run_code(code, result)):\n"
     ]
    }
   ],
   "source": [
    "## Initialize data \n",
    "scd = DemoDataset(training_percentage=0.8,partition_size=5)"
   ]
  },
  {
   "cell_type": "code",
   "execution_count": 7,
   "metadata": {},
   "outputs": [
    {
     "data": {
      "text/plain": [
       "[(35282767, -86305403, 1),\n",
       " (44004244, -115966981, 1),\n",
       " (46396896, -87300505, 0),\n",
       " (46267953, -106666959, 1),\n",
       " (42367794, -91445994, 1),\n",
       " (30291034, -82334017, 1),\n",
       " (32777584, -105466283, 1),\n",
       " (41792652, -84900917, 1),\n",
       " (44589806, -102787188, 1),\n",
       " (41057677, -94594228, 1),\n",
       " (36741950, -87245890, 1),\n",
       " (38309110, -82717666, 1),\n",
       " (36690445, -97557809, 1),\n",
       " (45670534, -98580207, 1),\n",
       " (44898516, -92923010, 0),\n",
       " (41076358, -117760165, 1),\n",
       " (36798384, -95608896, 1),\n",
       " (29763171, -101230032, 0),\n",
       " (37516889, -112663612, 1),\n",
       " (31731163, -82194912, 1),\n",
       " (42624833, -75652767, 1),\n",
       " (41810889, -92342571, 1),\n",
       " (34394837, -100892561, 1),\n",
       " (30386063, -82773890, 1),\n",
       " (40277046, -81262892, 1),\n",
       " (47580761, -111637014, 1),\n",
       " (34049335, -80043417, 0),\n",
       " (46080388, -100223542, 1),\n",
       " (43662704, -87930254, 1),\n",
       " (29030531, -82719003, 1),\n",
       " (39295266, -85949844, 1),\n",
       " (31163485, -92532189, 1),\n",
       " (28421814, -98071902, 1),\n",
       " (29486141, -81204491, 1),\n",
       " (43948644, -72080708, 0),\n",
       " (30383156, -85515060, 1),\n",
       " (35944569, -97408181, 1),\n",
       " (32239815, -107740420, 1),\n",
       " (42412327, -93084751, 1),\n",
       " (40850739, -101649075, 1),\n",
       " (35862402, -94106004, 1),\n",
       " (33077086, -99958978, 1),\n",
       " (32268924, -98860949, 1),\n",
       " (43893982, -73203001, 0),\n",
       " (42872702, -98701552, 1),\n",
       " (36318631, -99758319, 1),\n",
       " (34703943, -83035205, 1),\n",
       " (41772503, -91132480, 1),\n",
       " (40617379, -85514796, 1),\n",
       " (32771315, -91230175, 0)]"
      ]
     },
     "execution_count": 7,
     "metadata": {},
     "output_type": "execute_result"
    }
   ],
   "source": [
    "scd.data"
   ]
  },
  {
   "cell_type": "code",
   "execution_count": 69,
   "metadata": {},
   "outputs": [],
   "source": [
    "scatter_x = np.array(list(map(lambda x: x[1:2][0], scd.data)))"
   ]
  },
  {
   "cell_type": "code",
   "execution_count": 12,
   "metadata": {},
   "outputs": [
    {
     "data": {
      "text/plain": [
       "array([ -86305403, -115966981,  -87300505, -106666959,  -91445994,\n",
       "        -82334017, -105466283,  -84900917, -102787188,  -94594228,\n",
       "        -87245890,  -82717666,  -97557809,  -98580207,  -92923010,\n",
       "       -117760165,  -95608896, -101230032, -112663612,  -82194912,\n",
       "        -75652767,  -92342571, -100892561,  -82773890,  -81262892,\n",
       "       -111637014,  -80043417, -100223542,  -87930254,  -82719003,\n",
       "        -85949844,  -92532189,  -98071902,  -81204491,  -72080708,\n",
       "        -85515060,  -97408181, -107740420,  -93084751, -101649075,\n",
       "        -94106004,  -99958978,  -98860949,  -73203001,  -98701552,\n",
       "        -99758319,  -83035205,  -91132480,  -85514796,  -91230175])"
      ]
     },
     "execution_count": 12,
     "metadata": {},
     "output_type": "execute_result"
    }
   ],
   "source": [
    "scatter_x"
   ]
  },
  {
   "cell_type": "code",
   "execution_count": 13,
   "metadata": {},
   "outputs": [],
   "source": [
    "scatter_y = np.array(list(map(lambda x: x[:1][0], scd.data)))"
   ]
  },
  {
   "cell_type": "code",
   "execution_count": 14,
   "metadata": {},
   "outputs": [
    {
     "data": {
      "text/plain": [
       "array([35282767, 44004244, 46396896, 46267953, 42367794, 30291034,\n",
       "       32777584, 41792652, 44589806, 41057677, 36741950, 38309110,\n",
       "       36690445, 45670534, 44898516, 41076358, 36798384, 29763171,\n",
       "       37516889, 31731163, 42624833, 41810889, 34394837, 30386063,\n",
       "       40277046, 47580761, 34049335, 46080388, 43662704, 29030531,\n",
       "       39295266, 31163485, 28421814, 29486141, 43948644, 30383156,\n",
       "       35944569, 32239815, 42412327, 40850739, 35862402, 33077086,\n",
       "       32268924, 43893982, 42872702, 36318631, 34703943, 41772503,\n",
       "       40617379, 32771315])"
      ]
     },
     "execution_count": 14,
     "metadata": {},
     "output_type": "execute_result"
    }
   ],
   "source": [
    "scatter_y"
   ]
  },
  {
   "cell_type": "code",
   "execution_count": 16,
   "metadata": {},
   "outputs": [
    {
     "data": {
      "text/plain": [
       "(44004244, -115966981, 1)"
      ]
     },
     "execution_count": 16,
     "metadata": {},
     "output_type": "execute_result"
    }
   ],
   "source": [
    "scd.data[1:2][0]"
   ]
  },
  {
   "cell_type": "code",
   "execution_count": 26,
   "metadata": {},
   "outputs": [
    {
     "data": {
      "text/plain": [
       "array([1, 1, 0, 1, 1, 1, 1, 1, 1, 1, 1, 1, 1, 1, 0, 1, 1, 0, 1, 1, 1, 1,\n",
       "       1, 1, 1, 1, 0, 1, 1, 1, 1, 1, 1, 1, 0, 1, 1, 1, 1, 1, 1, 1, 1, 0,\n",
       "       1, 1, 1, 1, 1, 0])"
      ]
     },
     "execution_count": 26,
     "metadata": {},
     "output_type": "execute_result"
    }
   ],
   "source": [
    "group = np.array(list(map(lambda x: x[2:3][0], scd.data)))\n",
    "group"
   ]
  },
  {
   "cell_type": "code",
   "execution_count": 19,
   "metadata": {},
   "outputs": [],
   "source": [
    "cdict = {0: \"blue\", 1: \"red\"}"
   ]
  },
  {
   "cell_type": "code",
   "execution_count": 25,
   "metadata": {},
   "outputs": [
    {
     "data": {
      "image/png": "[encoded data removed]",
      "text/plain": [
       "<Figure size 432x288 with 1 Axes>"
      ]
     },
     "metadata": {
      "needs_background": "light"
     },
     "output_type": "display_data"
    }
   ],
   "source": [
    "fig, ax = plt.subplots()\n",
    "for g in np.unique(group):\n",
    "    ix = np.where(group == g)\n",
    "    ax.scatter(scatter_x[ix], scatter_y[ix], c = cdict[g], label = g, s = 4)\n",
    "ax.legend()\n",
    "plt.show()"
   ]
  },
  {
   "cell_type": "code",
   "execution_count": 1,
   "metadata": {},
   "outputs": [
    {
     "name": "stdout",
     "output_type": "stream",
     "text": [
      "README.md\t competition  dutils\t       requirements.txt        tests\r\n",
      "Untitled.ipynb\t config.py    latex\t       requirements.txt_final\r\n",
      "Untitled1.ipynb  contracts    project.json     script.py\r\n",
      "__pycache__\t data\t      requirements.in  test.ipynb\r\n"
     ]
    }
   ],
   "source": [
    "!ls"
   ]
  },
  {
   "cell_type": "code",
   "execution_count": 2,
   "metadata": {},
   "outputs": [
    {
     "name": "stdout",
     "output_type": "stream",
     "text": [
      "\u001b[19A[19A\u001b[m\u001b[m\u001b[22;16H\u001b[7m[ line 1/1 (100%), col 1/1 (100%), char 0/0 (0%) ]\u001b[mxt\u001b[7m^T\u001b[m To Spell  \u001b[7m^_\u001b[m Go To Line                        \u001b[1;79H\u001b[m"
     ]
    }
   ],
   "source": [
    "!nano"
   ]
  },
  {
   "cell_type": "code",
   "execution_count": null,
   "metadata": {},
   "outputs": [],
   "source": []
  }
 ],
 "metadata": {
  "kernelspec": {
   "display_name": "Python 3",
   "language": "python",
   "name": "python3"
  },
  "language_info": {
   "codemirror_mode": {
    "name": "ipython",
    "version": 3
   },
   "file_extension": ".py",
   "mimetype": "text/x-python",
   "name": "python",
   "nbconvert_exporter": "python",
   "pygments_lexer": "ipython3",
   "version": "3.6.7"
  }
 },
 "nbformat": 4,
 "nbformat_minor": 2
}
